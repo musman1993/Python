{
 "cells": [
  {
   "attachments": {},
   "cell_type": "markdown",
   "metadata": {},
   "source": [
    "Getting starting with College Alegbra"
   ]
  },
  {
   "attachments": {},
   "cell_type": "markdown",
   "metadata": {},
   "source": [
    "Proportion (Week One)\n",
    "Set up a proportion\n",
    "n1/d1 = n2/d2"
   ]
  },
  {
   "cell_type": "code",
   "execution_count": 7,
   "metadata": {},
   "outputs": [
    {
     "name": "stdout",
     "output_type": "stream",
     "text": [
      "d2 =  8.0\n"
     ]
    }
   ],
   "source": [
    "#Put a zero in for the unknown value\n",
    "\n",
    "n1 = 1\n",
    "d1 = 2\n",
    "n2 = 4\n",
    "d2 = 0\n",
    "\n",
    "if n2 == 0:\n",
    "    answer = d2*n1 / d1\n",
    "    print (\"n2 = \", answer)\n",
    "    \n",
    "if d2 == 0:\n",
    "    answer = n2*d1 / n1\n",
    "    print (\"d2 = \", answer)"
   ]
  },
  {
   "attachments": {},
   "cell_type": "markdown",
   "metadata": {},
   "source": [
    "Extra Problem (week One)\n",
    "1 * 2/3 + 3*4/5 -7\n",
    "print (1 * 2/3 + 3*4/5 -7)"
   ]
  },
  {
   "attachments": {},
   "cell_type": "markdown",
   "metadata": {},
   "source": [
    "Week 2 \n",
    "Solving for x. The variable eq is the equation set equal to zero. this will print an array of solutions."
   ]
  },
  {
   "cell_type": "code",
   "execution_count": null,
   "metadata": {},
   "outputs": [],
   "source": [
    "import math\n",
    "import sympy \n",
    "from sympy import symbols\n",
    "from sympy.solvers import solve\n",
    "\n",
    "x = symbols ('x')\n",
    "\n",
    "#Put the equation here\n",
    "eq = x**2 - 4\n",
    "\n",
    "print(\"x = \", solve(eq,x))"
   ]
  }
 ],
 "metadata": {
  "kernelspec": {
   "display_name": "Python 3 (ipykernel)",
   "language": "python",
   "name": "python3"
  },
  "language_info": {
   "codemirror_mode": {
    "name": "ipython",
    "version": 3
   },
   "file_extension": ".py",
   "mimetype": "text/x-python",
   "name": "python",
   "nbconvert_exporter": "python",
   "pygments_lexer": "ipython3",
   "version": "3.10.4"
  },
  "orig_nbformat": 4
 },
 "nbformat": 4,
 "nbformat_minor": 2
}
